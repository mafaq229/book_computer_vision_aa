{
 "cells": [
  {
   "cell_type": "markdown",
   "metadata": {},
   "source": [
    "Ex 3.2: Demosaicing. If you have access to the RAW image for the camera, perform the\n",
    "demosaicing yourself (Section 10.3.1). If not, just subsample an RGB image in a Bayer\n",
    "mosaic pattern. Instead of just bilinear interpolation, try one of the more advanced techniques\n",
    "described in Section 10.3.1. Compare your result to the one produced by the camera. Does\n",
    "your camera perform a simple linear mapping between RAW values and the color-balanced\n",
    "values in a JPEG? Some high-end cameras have a RAW+JPEG mode, which makes this\n",
    "comparison much easier."
   ]
  },
  {
   "cell_type": "markdown",
   "metadata": {},
   "source": [
    "Demosaicing is the process of reconstructing a full-color image from the incomplete color samples output by an image sensor overlaid with a color filter array (CFA), typically a Bayer pattern. Most digital cameras use a CFA because sensors typically capture only one color per pixel (Red, Green, or Blue), necessitating interpolation to estimate the missing color information."
   ]
  },
  {
   "cell_type": "markdown",
   "metadata": {},
   "source": [
    "Why Demosaicing?\n",
    "\n",
    "1. Data Efficiency: Capturing a single color per pixel reduces the amount of data required.\n",
    "2. Sensor Simplicity: Simplifies the sensor design and manufacturing process.\n",
    "3. Flexibility: Allows post-processing flexibility in adjusting color balance and other parameters.\n",
    "\n",
    "Challenges in Demosaicing\n",
    "\n",
    "1. Edge Preservation: Avoiding artifacts along edges and preserving fine details.\n",
    "2. Color Accuracy: Ensuring accurate color reproduction without introducing color fringes.\n",
    "3. Computational Efficiency: Balancing processing speed with image quality."
   ]
  },
  {
   "cell_type": "markdown",
   "metadata": {},
   "source": [
    "The Bayer mosaic pattern is the most widely used CFA in digital imaging. It consists of a repeating 2x2 grid with the following configuration:\n",
    "\n",
    "G R\n",
    "\n",
    "\n",
    "B G\n"
   ]
  },
  {
   "cell_type": "markdown",
   "metadata": {},
   "source": [
    "This pattern places twice as many green filters as red or blue because the human eye is more sensitive to green light, aiding in perceived image sharpness and brightness."
   ]
  },
  {
   "cell_type": "markdown",
   "metadata": {},
   "source": [
    "Implications for Demosaicing\n",
    "\n",
    "Each pixel in the RAW image captures only one color component. The demosaicing process estimates the missing two color components for each pixel based on neighboring pixels' information."
   ]
  },
  {
   "cell_type": "markdown",
   "metadata": {},
   "source": [
    "Advanced Demosaicing Techniques\n",
    "\n",
    "While simple bilinear interpolation is a straightforward method for demosaicing, it often results in artifacts such as color moiré patterns and zipper effects along edges. Advanced demosaicing algorithms aim to improve image quality by:\n",
    "\n",
    "1. Edge Detection: Identifying edges to prevent interpolating across them, which reduces color artifacts.\n",
    "2. Adaptive Interpolation: Adjusting interpolation based on local image characteristics.\n",
    "3. Frequency Domain Analysis: Utilizing frequency information to better reconstruct high-frequency details.\n",
    "\n",
    "Examples of Advanced Techniques\n",
    "\n",
    "1. Malvar-He-Cutler (MHC) Algorithm: Utilizes linear interpolation with coefficients optimized for minimizing color artifacts.\n",
    "2. Frequency-Based Demosaicing: Applies frequency domain filtering to separate and reconstruct color channels.\n",
    "3. Machine Learning Approaches: Employ deep learning models to predict missing color information based on learned patterns."
   ]
  },
  {
   "cell_type": "markdown",
   "metadata": {},
   "source": [
    "### Malvar-He-Cutler algorithm"
   ]
  },
  {
   "cell_type": "code",
   "execution_count": 3,
   "metadata": {},
   "outputs": [],
   "source": [
    "import cv2\n",
    "import numpy as np"
   ]
  },
  {
   "cell_type": "code",
   "execution_count": 24,
   "metadata": {},
   "outputs": [],
   "source": [
    "# simulating a raw image by subsampling a bgr image\n",
    "# GR pattern\n",
    "def bgr_to_bayer(image):\n",
    "    \"\"\"\n",
    "    Convert an BGR image to a Bayer pattern (RGGB).\n",
    "    \n",
    "    :param image_bgr: Input image in BGR format\n",
    "    :return: Bayer pattern image\n",
    "    \"\"\"\n",
    "    height, width, _ = image.shape\n",
    "    bayer = np.zeros((height, width), dtype=np.uint8)\n",
    "    \n",
    "    # Define the Bayer pattern (RGGB)\n",
    "    # Row 0: G R G R ...\n",
    "    # Row 1: B G B G ...\n",
    "    for i in range(height):\n",
    "        for j in range(width):\n",
    "            if i % 2 == 0:\n",
    "                if j % 2 == 0:\n",
    "                    # Green\n",
    "                    bayer[i, j] = image[i, j, 1]\n",
    "                else:\n",
    "                    # Red\n",
    "                    bayer[i, j] = image[i, j, 2]\n",
    "            else:\n",
    "                if j % 2 == 0:\n",
    "                    # Blue\n",
    "                    bayer[i, j] = image[i, j, 0]\n",
    "                else:\n",
    "                    # Green\n",
    "                    bayer[i, j] = image[i, j, 1]\n",
    "    return bayer\n",
    "\n",
    "# RG pattern\n",
    "# def bgr_to_bayer(image):\n",
    "#     \"\"\"\n",
    "#     Convert a BGR image to a Bayer pattern (RGGB).\n",
    "    \n",
    "#     :param image: Input image in BGR format\n",
    "#     :return: Bayer pattern image as a single-channel NumPy array\n",
    "#     \"\"\"\n",
    "#     height, width, _ = image.shape\n",
    "#     bayer = np.zeros((height, width), dtype=np.uint8)\n",
    "    \n",
    "#     # RGGB Pattern:\n",
    "#     # Row 0: R G R G ...\n",
    "#     # Row 1: G B G B ...\n",
    "    \n",
    "#     # Even rows\n",
    "#     bayer[0::2, 0::2] = image[0::2, 0::2, 2]  # Red\n",
    "#     bayer[0::2, 1::2] = image[0::2, 1::2, 1]  # Green\n",
    "    \n",
    "#     # Odd rows\n",
    "#     bayer[1::2, 0::2] = image[1::2, 0::2, 1]  # Green\n",
    "#     bayer[1::2, 1::2] = image[1::2, 1::2, 0]  # Blue\n",
    "    \n",
    "#     return bayer\n",
    "\n",
    "\n",
    "image_path = \"image.png\"\n",
    "image_bgr = cv2.imread(image_path)\n",
    "\n",
    "bayer_image = bgr_to_bayer(image_bgr)\n",
    "cv2.imshow(\"image bgr\", image_bgr)\n",
    "\n",
    "cv2.imshow(\"bayer image\", bayer_image)\n",
    "\n",
    "cv2.waitKey(0)\n",
    "cv2.destroyAllWindows()"
   ]
  },
  {
   "cell_type": "code",
   "execution_count": 25,
   "metadata": {},
   "outputs": [],
   "source": [
    "def demosaicing_with_opencv(bayer_image):\n",
    "    \"\"\"\n",
    "    Perform demosaicing using OpenCV's built-in advanced algorithms.\n",
    "    \n",
    "    :param bayer_image: Input Bayer RAW image\n",
    "    :return: Demosaiced BGR image\n",
    "    \"\"\"\n",
    "    # OpenCV expects the Bayer pattern in a specific order.\n",
    "    # Since we simulated RGGB, we'll use COLOR_BayerGR2BGR\n",
    "    demosaiced = cv2.cvtColor(bayer_image, cv2.COLOR_BayerGR2BGR)\n",
    "    return demosaiced\n",
    "\n",
    "demosaiced = demosaicing_with_opencv(bayer_image)\n",
    "\n",
    "cv2.imshow(\"bayer image\", bayer_image)\n",
    "cv2.imshow(\"demosaiced\", demosaiced)\n",
    "\n",
    "cv2.waitKey(0)\n",
    "cv2.destroyAllWindows()"
   ]
  },
  {
   "cell_type": "code",
   "execution_count": null,
   "metadata": {},
   "outputs": [],
   "source": []
  }
 ],
 "metadata": {
  "kernelspec": {
   "display_name": "3.10.14",
   "language": "python",
   "name": "python3"
  },
  "language_info": {
   "codemirror_mode": {
    "name": "ipython",
    "version": 3
   },
   "file_extension": ".py",
   "mimetype": "text/x-python",
   "name": "python",
   "nbconvert_exporter": "python",
   "pygments_lexer": "ipython3",
   "version": "3.10.14"
  }
 },
 "nbformat": 4,
 "nbformat_minor": 2
}
